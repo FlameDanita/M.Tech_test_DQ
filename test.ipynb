{
 "cells": [
  {
   "cell_type": "code",
   "execution_count": 19,
   "metadata": {},
   "outputs": [
    {
     "ename": "FileNotFoundError",
     "evalue": "[Errno 2] No such file or directory: 'input.txt'",
     "output_type": "error",
     "traceback": [
      "\u001b[0;31m---------------------------------------------------------------------------\u001b[0m",
      "\u001b[0;31mFileNotFoundError\u001b[0m                         Traceback (most recent call last)",
      "Cell \u001b[0;32mIn[19], line 22\u001b[0m\n\u001b[1;32m     19\u001b[0m output_file_path \u001b[38;5;241m=\u001b[39m \u001b[38;5;124m\"\u001b[39m\u001b[38;5;124moutput.txt\u001b[39m\u001b[38;5;124m\"\u001b[39m\n\u001b[1;32m     21\u001b[0m \u001b[38;5;66;03m# Чтение входной строки из файла\u001b[39;00m\n\u001b[0;32m---> 22\u001b[0m input_string \u001b[38;5;241m=\u001b[39m \u001b[43mread_input_file\u001b[49m\u001b[43m(\u001b[49m\u001b[43minput_file_path\u001b[49m\u001b[43m)\u001b[49m\n\u001b[1;32m     24\u001b[0m \u001b[38;5;66;03m# Сжатие пирамиды\u001b[39;00m\n\u001b[1;32m     25\u001b[0m result_string \u001b[38;5;241m=\u001b[39m compress_pyramid(input_string)\n",
      "Cell \u001b[0;32mIn[19], line 10\u001b[0m, in \u001b[0;36mread_input_file\u001b[0;34m(file_path)\u001b[0m\n\u001b[1;32m      9\u001b[0m \u001b[38;5;28;01mdef\u001b[39;00m \u001b[38;5;21mread_input_file\u001b[39m(file_path):\n\u001b[0;32m---> 10\u001b[0m     \u001b[38;5;28;01mwith\u001b[39;00m \u001b[38;5;28;43mopen\u001b[39;49m\u001b[43m(\u001b[49m\u001b[43mfile_path\u001b[49m\u001b[43m,\u001b[49m\u001b[43m \u001b[49m\u001b[38;5;124;43m'\u001b[39;49m\u001b[38;5;124;43mr\u001b[39;49m\u001b[38;5;124;43m'\u001b[39;49m\u001b[43m)\u001b[49m \u001b[38;5;28;01mas\u001b[39;00m file:\n\u001b[1;32m     11\u001b[0m         \u001b[38;5;28;01mreturn\u001b[39;00m file\u001b[38;5;241m.\u001b[39mread()\u001b[38;5;241m.\u001b[39mstrip()\n",
      "File \u001b[0;32m~/Library/Python/3.11/lib/python/site-packages/IPython/core/interactiveshell.py:282\u001b[0m, in \u001b[0;36m_modified_open\u001b[0;34m(file, *args, **kwargs)\u001b[0m\n\u001b[1;32m    275\u001b[0m \u001b[38;5;28;01mif\u001b[39;00m file \u001b[38;5;129;01min\u001b[39;00m {\u001b[38;5;241m0\u001b[39m, \u001b[38;5;241m1\u001b[39m, \u001b[38;5;241m2\u001b[39m}:\n\u001b[1;32m    276\u001b[0m     \u001b[38;5;28;01mraise\u001b[39;00m \u001b[38;5;167;01mValueError\u001b[39;00m(\n\u001b[1;32m    277\u001b[0m         \u001b[38;5;124mf\u001b[39m\u001b[38;5;124m\"\u001b[39m\u001b[38;5;124mIPython won\u001b[39m\u001b[38;5;124m'\u001b[39m\u001b[38;5;124mt let you open fd=\u001b[39m\u001b[38;5;132;01m{\u001b[39;00mfile\u001b[38;5;132;01m}\u001b[39;00m\u001b[38;5;124m by default \u001b[39m\u001b[38;5;124m\"\u001b[39m\n\u001b[1;32m    278\u001b[0m         \u001b[38;5;124m\"\u001b[39m\u001b[38;5;124mas it is likely to crash IPython. If you know what you are doing, \u001b[39m\u001b[38;5;124m\"\u001b[39m\n\u001b[1;32m    279\u001b[0m         \u001b[38;5;124m\"\u001b[39m\u001b[38;5;124myou can use builtins\u001b[39m\u001b[38;5;124m'\u001b[39m\u001b[38;5;124m open.\u001b[39m\u001b[38;5;124m\"\u001b[39m\n\u001b[1;32m    280\u001b[0m     )\n\u001b[0;32m--> 282\u001b[0m \u001b[38;5;28;01mreturn\u001b[39;00m \u001b[43mio_open\u001b[49m\u001b[43m(\u001b[49m\u001b[43mfile\u001b[49m\u001b[43m,\u001b[49m\u001b[43m \u001b[49m\u001b[38;5;241;43m*\u001b[39;49m\u001b[43margs\u001b[49m\u001b[43m,\u001b[49m\u001b[43m \u001b[49m\u001b[38;5;241;43m*\u001b[39;49m\u001b[38;5;241;43m*\u001b[39;49m\u001b[43mkwargs\u001b[49m\u001b[43m)\u001b[49m\n",
      "\u001b[0;31mFileNotFoundError\u001b[0m: [Errno 2] No such file or directory: 'input.txt'"
     ]
    }
   ],
   "source": [
    "def compress_pyramid(s):\n",
    "    while len(s) > 1:\n",
    "        new_s = ''\n",
    "        for i in range(0, len(s), 2):\n",
    "            new_s += min(s[i], s[i + 1])\n",
    "        s = new_s\n",
    "    return s\n",
    "\n",
    "def read_input_file(file_path):\n",
    "    with open(file_path, 'r') as file:\n",
    "        return file.read().strip()\n",
    "\n",
    "def write_output_file(file_path, result):\n",
    "    with open(file_path, 'w') as file:\n",
    "        file.write(result)\n",
    "\n",
    "if __name__ == \"__main__\":\n",
    "    input_file_path = \"input.txt\"\n",
    "    output_file_path = \"output.txt\"\n",
    "\n",
    "    # Чтение входной строки из файла\n",
    "    input_string = read_input_file(input_file_path)\n",
    "\n",
    "    # Сжатие пирамиды\n",
    "    result_string = compress_pyramid(input_string)\n",
    "\n",
    "    # Запись результата в файл\n",
    "    write_output_file(output_file_path, result_string)"
   ]
  },
  {
   "cell_type": "code",
   "execution_count": 143,
   "metadata": {},
   "outputs": [],
   "source": [
    "class compress_pyramid_task():\n",
    "    def __init__(self):\n",
    "        pass\n",
    "\n",
    "    def read_string(self, file_path):\n",
    "        with open(file_path, 'r') as file:\n",
    "            self.string = file.read().strip()\n",
    "\n",
    "        self.compress_string = 'compress_string' #tmp\n",
    "\n",
    "    def write_string(self, file_path):\n",
    "        with open(file_path, 'w') as file:\n",
    "            file.write(self.compress_string)\n",
    "\n",
    "    def check_string(self, str):\n",
    "        if self.get_len_and_pow(str):\n",
    "            print(\"Строка валидна\")\n",
    "            print(\"Длина строки =\", self.str_len)\n",
    "            print(\"Степень 4-ки =\", self.str_pow)\n",
    "        else:\n",
    "            print(\"Длина строки не является степенью 4-ки\")\n",
    "        \n",
    "    def get_len_and_pow(self, string):\n",
    "        self.str_len = len(string)\n",
    "        self.str_pow = 0\n",
    "        tmp_str_len = self.str_len\n",
    "\n",
    "        if self.str_len != 1 and self.str_len % 4 != 0:\n",
    "            return False\n",
    "        else:\n",
    "            while tmp_str_len != 1:\n",
    "                self.str_pow += 1\n",
    "                tmp_str_len /= 4\n",
    "            return True\n",
    "\n",
    "    def compress_pyramid(self):\n",
    "        pass\n",
    "\n",
    "    def print_pyramid(self, string):\n",
    "        self.get_len_and_pow(string)\n",
    "\n",
    "        current_row = 1\n",
    "        print(\"{: ^64}\".format(\"^\"))\n",
    "\n",
    "        while string:\n",
    "            row_string = []\n",
    "            for _ in range(current_row):\n",
    "                row_string.append(string[-1])\n",
    "                string = string[:-1]\n",
    "\n",
    "            # print(row_string)\n",
    "            print_string = ''\n",
    "            for i in range(len(row_string)):\n",
    "                if i % 2 == 0:\n",
    "                    print_string += '/' + row_string[i]\n",
    "                else:\n",
    "                    print_string += '\\\\' + row_string[i]\n",
    "            print_string += '\\\\'\n",
    "            print(\"{: ^64}\".format(print_string))\n",
    "\n",
    "            delemetr_string = ''\n",
    "            for i in range(len(print_string) + 2):\n",
    "                if i % 4 == 0:\n",
    "                    delemetr_string += '*'\n",
    "                else:\n",
    "                    delemetr_string += '-'\n",
    "            print(\"{: ^64}\".format(delemetr_string))\n",
    "\n",
    "            current_row += 2\n",
    "\n",
    "    def get_examples(self):\n",
    "        self.ex_1 = 'a'\n",
    "        self.ex_2 = 'abcd'\n",
    "        self.ex_3 = 'aaabcccabbbcdddd'\n",
    "        self.ex_4 = 'aaaaaaabcccccccaaaaabbbcccccaaabbbbbcccabbbbbbbcdddddddddddddddd'\n",
    "        self.ex_5 = 'aaaaaaabcccccccaaaaabbbcccccaaabbbbbcccabbbbbbbcddddddddddddddddaaaaaaabcccccccaaaaabbbcccccaaabbbbbcccabbbbbbbcddddddddddddddddaaaaaaabcccccccaaaaabbbcccccaaabbbbbcccabbbbbbbcddddddddddddddddaaaaaaabcccccccaaaaabbbcccccaaabbbbbcccabbbbbbbcdddddddddddddddd'\n",
    "        self.ex_6 = 'abcdefghijklmnop'"
   ]
  },
  {
   "cell_type": "code",
   "execution_count": 152,
   "metadata": {},
   "outputs": [
    {
     "name": "stdout",
     "output_type": "stream",
     "text": [
      "Строка валидна\n",
      "Длина строки = 256\n",
      "Степень 4-ки = 4\n",
      "                               ^                                \n",
      "                              /d\\                               \n",
      "                             *---*                              \n",
      "                            /d\\d/d\\                             \n",
      "                           *---*---*                            \n",
      "                          /d\\d/d\\d/d\\                           \n",
      "                         *---*---*---*                          \n",
      "                        /d\\d/d\\d/d\\d/d\\                         \n",
      "                       *---*---*---*---*                        \n",
      "                      /c\\b/b\\b/b\\b/b\\b/a\\                       \n",
      "                     *---*---*---*---*---*                      \n",
      "                    /c\\c/c\\b/b\\b/b\\b/a\\a/a\\                     \n",
      "                   *---*---*---*---*---*---*                    \n",
      "                  /c\\c/c\\c/c\\b/b\\b/a\\a/a\\a/a\\                   \n",
      "                 *---*---*---*---*---*---*---*                  \n",
      "                /c\\c/c\\c/c\\c/c\\b/a\\a/a\\a/a\\a/a\\                 \n",
      "               *---*---*---*---*---*---*---*---*                \n",
      "              /d\\d/d\\d/d\\d/d\\d/d\\d/d\\d/d\\d/d\\d/c\\               \n",
      "             *---*---*---*---*---*---*---*---*---*              \n",
      "            /b\\b/b\\b/b\\b/b\\a/c\\c/c\\b/b\\b/b\\b/a\\a/a\\             \n",
      "           *---*---*---*---*---*---*---*---*---*---*            \n",
      "          /c\\c/c\\c/c\\b/b\\b/a\\a/a\\a/a\\c/c\\c/c\\c/c\\c/b\\           \n",
      "         *---*---*---*---*---*---*---*---*---*---*---*          \n",
      "        /a\\a/a\\a/a\\a/a\\d/d\\d/d\\d/d\\d/d\\d/d\\d/d\\d/d\\d/d\\         \n",
      "       *---*---*---*---*---*---*---*---*---*---*---*---*        \n",
      "      /c\\b/b\\b/b\\b/b\\b/a\\c/c\\c/b\\b/b\\b/b\\a/a\\a/c\\c/c\\c/c\\       \n",
      "     *---*---*---*---*---*---*---*---*---*---*---*---*---*      \n",
      "    /b\\b/b\\a/a\\a/a\\a/c\\c/c\\c/c\\c/c\\b/a\\a/a\\a/a\\a/a\\d/d\\d/d\\     \n",
      "   *---*---*---*---*---*---*---*---*---*---*---*---*---*---*    \n",
      "  /d\\d/d\\d/d\\d/d\\d/d\\d/d\\d/c\\b/b\\b/b\\b/b\\b/a\\c/c\\c/b\\b/b\\b/b\\   \n",
      " *---*---*---*---*---*---*---*---*---*---*---*---*---*---*---*  \n",
      "/a\\a/a\\c/c\\c/c\\c/b\\b/b\\a/a\\a/a\\a/c\\c/c\\c/c\\c/c\\b/a\\a/a\\a/a\\a/a\\ \n",
      "*---*---*---*---*---*---*---*---*---*---*---*---*---*---*---*---*\n"
     ]
    }
   ],
   "source": [
    "task = compress_pyramid_task()\n",
    "task.get_examples()\n",
    "# task.read_string('input.txt')\n",
    "\n",
    "work_string = task.ex_5\n",
    "\n",
    "task.check_string(work_string)\n",
    "# task.check_string(task.string)\n",
    "\n",
    "task.print_pyramid(work_string)\n",
    "\n",
    "# task.write_string('output.txt')"
   ]
  },
  {
   "cell_type": "code",
   "execution_count": 58,
   "metadata": {},
   "outputs": [
    {
     "name": "stdout",
     "output_type": "stream",
     "text": [
      "a\n"
     ]
    }
   ],
   "source": [
    "task.print_pyramid(task.ex_1)"
   ]
  },
  {
   "cell_type": "code",
   "execution_count": null,
   "metadata": {},
   "outputs": [],
   "source": []
  }
 ],
 "metadata": {
  "kernelspec": {
   "display_name": "Python 3",
   "language": "python",
   "name": "python3"
  },
  "language_info": {
   "codemirror_mode": {
    "name": "ipython",
    "version": 3
   },
   "file_extension": ".py",
   "mimetype": "text/x-python",
   "name": "python",
   "nbconvert_exporter": "python",
   "pygments_lexer": "ipython3",
   "version": "3.11.2"
  }
 },
 "nbformat": 4,
 "nbformat_minor": 2
}
