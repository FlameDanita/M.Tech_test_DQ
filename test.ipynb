{
 "cells": [
  {
   "cell_type": "code",
   "execution_count": null,
   "metadata": {},
   "outputs": [],
   "source": [
    "def compress_pyramid(s):\n",
    "    while len(s) > 1:\n",
    "        new_s = ''\n",
    "        for i in range(0, len(s), 2):\n",
    "            new_s += min(s[i], s[i + 1])\n",
    "        s = new_s\n",
    "    return s\n",
    "\n",
    "def read_input_file(file_path):\n",
    "    with open(file_path, 'r') as file:\n",
    "        return file.read().strip()\n",
    "\n",
    "def write_output_file(file_path, result):\n",
    "    with open(file_path, 'w') as file:\n",
    "        file.write(result)\n",
    "\n",
    "if __name__ == \"__main__\":\n",
    "    input_file_path = \"input.txt\"\n",
    "    output_file_path = \"output.txt\"\n",
    "\n",
    "    # Чтение входной строки из файла\n",
    "    input_string = read_input_file(input_file_path)\n",
    "\n",
    "    # Сжатие пирамиды\n",
    "    result_string = compress_pyramid(input_string)\n",
    "\n",
    "    # Запись результата в файл\n",
    "    write_output_file(output_file_path, result_string)"
   ]
  },
  {
   "cell_type": "code",
   "execution_count": 14,
   "metadata": {},
   "outputs": [],
   "source": [
    "class compress_pyramid_task():\n",
    "    def __init__(self):\n",
    "        pass\n",
    "\n",
    "    def read_string(self):\n",
    "        pass\n",
    "\n",
    "    def write_string(self):\n",
    "        pass\n",
    "\n",
    "    def check_string(self):\n",
    "        pass\n",
    "\n",
    "    def compress_pyramid(self):\n",
    "        pass\n",
    "\n",
    "    def print_pyramid(self, str):\n",
    "        print(str)\n",
    "\n",
    "    def get_examples(self):\n",
    "        self.ex_1 = 'a'\n",
    "        self.ex_2 = 'abcd'\n",
    "        self.ex_3 = 'aaabcccabbbcdddd'\n",
    "        self.ex_4 = 'aaaaaaabcccccccaaaaabbbcccccaaabbbbbcccabbbbbbbcdddddddddddddddd'"
   ]
  },
  {
   "cell_type": "code",
   "execution_count": 17,
   "metadata": {},
   "outputs": [],
   "source": [
    "task = compress_pyramid_task()\n",
    "task.get_examples()"
   ]
  },
  {
   "cell_type": "code",
   "execution_count": 18,
   "metadata": {},
   "outputs": [
    {
     "name": "stdout",
     "output_type": "stream",
     "text": [
      "a\n"
     ]
    }
   ],
   "source": [
    "task.print_pyramid(task.ex_1)"
   ]
  },
  {
   "cell_type": "code",
   "execution_count": null,
   "metadata": {},
   "outputs": [],
   "source": []
  }
 ],
 "metadata": {
  "kernelspec": {
   "display_name": "Python 3",
   "language": "python",
   "name": "python3"
  },
  "language_info": {
   "codemirror_mode": {
    "name": "ipython",
    "version": 3
   },
   "file_extension": ".py",
   "mimetype": "text/x-python",
   "name": "python",
   "nbconvert_exporter": "python",
   "pygments_lexer": "ipython3",
   "version": "3.11.2"
  }
 },
 "nbformat": 4,
 "nbformat_minor": 2
}
