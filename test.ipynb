{
 "cells": [
  {
   "cell_type": "code",
   "execution_count": 322,
   "metadata": {},
   "outputs": [],
   "source": [
    "class compress_pyramid_task():\n",
    "    def __init__(self):\n",
    "        self.string = ''\n",
    "        self.new_string = ''\n",
    "        self.str_pow = 0\n",
    "\n",
    "    def read_string(self, file_path):\n",
    "        with open(file_path, 'r') as file:\n",
    "            self.string = file.read().strip()\n",
    "\n",
    "    def write_string(self, file_path):\n",
    "        with open(file_path, 'w') as file:\n",
    "            file.write(self.string)\n",
    "\n",
    "    def check_string(self, string):\n",
    "        str_len = len(string)\n",
    "        if str_len != 1 and str_len % 4 != 0:\n",
    "            # Длина строки не является степенью 4-ки\n",
    "            return False\n",
    "        else:\n",
    "            while str_len > 1:\n",
    "                self.str_pow += 1\n",
    "                str_len /= 4\n",
    "                print(str_len)\n",
    "            return True\n",
    "        \n",
    "    def compress_process(self):\n",
    "        while self.check_string(self.string) and len(self.string) > 4 and self.new_string != self.string:\n",
    "            print(self.check_string(self.string),\n",
    "              len(self.string) > 4,\n",
    "              self.new_string != self.string)\n",
    "            self.string = self.new_string\n",
    "            self.print_pyramid(self.string)\n",
    "            self.compress_pyramid(self.string)                \n",
    "\n",
    "    def compress_pyramid(self, string):\n",
    "        # Получение данных в пирамиде построчно\n",
    "        len_current_row = 1\n",
    "        self.pyramid_arr = []\n",
    "        while string:\n",
    "            data_current_row = []\n",
    "            for _ in range(len_current_row):\n",
    "                data_current_row.append(string[-1])\n",
    "                string = string[:-1]\n",
    "\n",
    "            self.pyramid_arr.append(data_current_row)\n",
    "            len_current_row += 2\n",
    "\n",
    "        # Разбиение строк пирамиды на пары 1-3\n",
    "        spot_flag = True\n",
    "        self.triangle_arr = []\n",
    "        for arr in self.pyramid_arr:\n",
    "            while len(arr) > 0:\n",
    "                if spot_flag:\n",
    "                    self.triangle_arr.append(arr[-1:])\n",
    "                    arr = arr[:-1]\n",
    "                else:\n",
    "                    self.triangle_arr.append(arr[-3:])\n",
    "                    arr = arr[:-3]\n",
    "                spot_flag = not spot_flag\n",
    "\n",
    "        # Слияние строк по 4 элемента в ряд\n",
    "        merge_count = 1\n",
    "        self.merget_triangle = []\n",
    "        while self.triangle_arr:\n",
    "            tmp_arr = []\n",
    "            for j in range(merge_count):\n",
    "                self.triangle_arr[0].extend(self.triangle_arr[merge_count - j])\n",
    "                tmp_arr.append(self.triangle_arr[0])\n",
    "                del self.triangle_arr[merge_count - j], self.triangle_arr[0]\n",
    "            for arr in tmp_arr[::-1]:\n",
    "                self.merget_triangle.append(arr)\n",
    "            merge_count += 2\n",
    "        self.merget_triangle = self.merget_triangle[::-1]\n",
    "\n",
    "        # Объединение треугольников из одинаковых элементов\n",
    "        self.new_string = ''\n",
    "        for elem in self.merget_triangle:\n",
    "            if elem.count(elem[0]) == 4:\n",
    "                self.new_string += elem[0]\n",
    "            else:\n",
    "                for el in elem:\n",
    "                    self.new_string += el\n",
    "        \n",
    "    def print_separate_pyramid(self):\n",
    "        pass\n",
    "\n",
    "    def print_pyramid(self, string):\n",
    "        len_current_row = 1\n",
    "        print(\"{: ^64}\".format(\"^\"))\n",
    "\n",
    "        while string:\n",
    "            data_current_row = []\n",
    "            for _ in range(len_current_row):\n",
    "                data_current_row.append(string[-1])\n",
    "                string = string[:-1]\n",
    "\n",
    "            printed_string = ''\n",
    "            for i in range(len(data_current_row)):\n",
    "                if i % 2 == 0:\n",
    "                    printed_string += '/' + data_current_row[i]\n",
    "                else:\n",
    "                    printed_string += '\\\\' + data_current_row[i]\n",
    "            printed_string += '\\\\'\n",
    "            print(\"{: ^64}\".format(printed_string))\n",
    "\n",
    "            delemetr_string = ''\n",
    "            for i in range(len(printed_string) + 2):\n",
    "                if i % 4 == 0:\n",
    "                    delemetr_string += '*'\n",
    "                else:\n",
    "                    delemetr_string += '-'\n",
    "            print(\"{: ^64}\".format(delemetr_string))\n",
    "            len_current_row += 2\n",
    "        print()\n",
    "\n",
    "    def get_examples(self):\n",
    "        self.ex_1 = 'a'\n",
    "        self.ex_2 = 'abcd'\n",
    "        self.ex_3 = 'aaabcccabbbcdddd'\n",
    "        self.ex_4 = 'aaaaaaabcccccccaaaaabbbcccccaaabbbbbcccabbbbbbbcdddddddddddddddd'\n",
    "        self.ex_6 = 'abcdefghijklmnop'"
   ]
  },
  {
   "cell_type": "code",
   "execution_count": 323,
   "metadata": {},
   "outputs": [
    {
     "name": "stdout",
     "output_type": "stream",
     "text": [
      "16.0\n",
      "4.0\n",
      "1.0\n",
      "16.0\n",
      "4.0\n",
      "1.0\n",
      "True True True\n",
      "                               ^                                \n",
      "\n"
     ]
    }
   ],
   "source": [
    "task = compress_pyramid_task()\n",
    "task.get_examples()\n",
    "\n",
    "task.read_string('input.txt')\n",
    "\n",
    "task.compress_process()\n",
    "\n",
    "task.write_string('output.txt')"
   ]
  },
  {
   "cell_type": "code",
   "execution_count": 306,
   "metadata": {},
   "outputs": [
    {
     "name": "stdout",
     "output_type": "stream",
     "text": [
      "                               ^                                \n",
      "\n"
     ]
    },
    {
     "ename": "KeyboardInterrupt",
     "evalue": "",
     "output_type": "error",
     "traceback": [
      "\u001b[0;31m---------------------------------------------------------------------------\u001b[0m",
      "\u001b[0;31mKeyboardInterrupt\u001b[0m                         Traceback (most recent call last)",
      "Cell \u001b[0;32mIn[306], line 6\u001b[0m\n\u001b[1;32m      2\u001b[0m task\u001b[38;5;241m.\u001b[39mget_examples()\n\u001b[1;32m      4\u001b[0m task\u001b[38;5;241m.\u001b[39mstring \u001b[38;5;241m=\u001b[39m task\u001b[38;5;241m.\u001b[39mex_6\n\u001b[0;32m----> 6\u001b[0m \u001b[43mtask\u001b[49m\u001b[38;5;241;43m.\u001b[39;49m\u001b[43mcompress_process\u001b[49m\u001b[43m(\u001b[49m\u001b[43m)\u001b[49m\n",
      "Cell \u001b[0;32mIn[304], line 28\u001b[0m, in \u001b[0;36mcompress_pyramid_task.compress_process\u001b[0;34m(self)\u001b[0m\n\u001b[1;32m     27\u001b[0m \u001b[38;5;28;01mdef\u001b[39;00m \u001b[38;5;21mcompress_process\u001b[39m(\u001b[38;5;28mself\u001b[39m):\n\u001b[0;32m---> 28\u001b[0m     \u001b[38;5;28;01mwhile\u001b[39;00m \u001b[38;5;28;43mself\u001b[39;49m\u001b[38;5;241;43m.\u001b[39;49m\u001b[43mcheck_string\u001b[49m\u001b[43m(\u001b[49m\u001b[38;5;28;43mself\u001b[39;49m\u001b[38;5;241;43m.\u001b[39;49m\u001b[43mstring\u001b[49m\u001b[43m)\u001b[49m \u001b[38;5;129;01mand\u001b[39;00m \u001b[38;5;28mlen\u001b[39m(\u001b[38;5;28mself\u001b[39m\u001b[38;5;241m.\u001b[39mstring) \u001b[38;5;241m>\u001b[39m \u001b[38;5;241m4\u001b[39m \u001b[38;5;129;01mand\u001b[39;00m \u001b[38;5;28mself\u001b[39m\u001b[38;5;241m.\u001b[39mnew_string \u001b[38;5;241m!=\u001b[39m \u001b[38;5;28mself\u001b[39m\u001b[38;5;241m.\u001b[39mstring:\n\u001b[1;32m     29\u001b[0m         \u001b[38;5;28mself\u001b[39m\u001b[38;5;241m.\u001b[39mstring \u001b[38;5;241m=\u001b[39m \u001b[38;5;28mself\u001b[39m\u001b[38;5;241m.\u001b[39mnew_string\n\u001b[1;32m     30\u001b[0m         \u001b[38;5;28mself\u001b[39m\u001b[38;5;241m.\u001b[39mprint_pyramid(\u001b[38;5;28mself\u001b[39m\u001b[38;5;241m.\u001b[39mstring)\n",
      "Cell \u001b[0;32mIn[304], line 22\u001b[0m, in \u001b[0;36mcompress_pyramid_task.check_string\u001b[0;34m(self, string)\u001b[0m\n\u001b[1;32m     20\u001b[0m     \u001b[38;5;28;01mreturn\u001b[39;00m \u001b[38;5;28;01mFalse\u001b[39;00m\n\u001b[1;32m     21\u001b[0m \u001b[38;5;28;01melse\u001b[39;00m:\n\u001b[0;32m---> 22\u001b[0m     \u001b[38;5;28;01mwhile\u001b[39;00m str_len \u001b[38;5;241m!=\u001b[39m \u001b[38;5;241m1\u001b[39m:\n\u001b[1;32m     23\u001b[0m         \u001b[38;5;28mself\u001b[39m\u001b[38;5;241m.\u001b[39mstr_pow \u001b[38;5;241m+\u001b[39m\u001b[38;5;241m=\u001b[39m \u001b[38;5;241m1\u001b[39m\n\u001b[1;32m     24\u001b[0m         str_len \u001b[38;5;241m/\u001b[39m\u001b[38;5;241m=\u001b[39m \u001b[38;5;241m4\u001b[39m\n",
      "\u001b[0;31mKeyboardInterrupt\u001b[0m: "
     ]
    }
   ],
   "source": [
    "task = compress_pyramid_task()\n",
    "task.get_examples()\n",
    "\n",
    "task.string = task.ex_6\n",
    "\n",
    "task.compress_process()"
   ]
  },
  {
   "cell_type": "code",
   "execution_count": 307,
   "metadata": {},
   "outputs": [
    {
     "name": "stdout",
     "output_type": "stream",
     "text": [
      "                               ^                                \n",
      "                              /d\\                               \n",
      "                             *---*                              \n",
      "                            /d\\d/d\\                             \n",
      "                           *---*---*                            \n",
      "                          /d\\d/d\\d/d\\                           \n",
      "                         *---*---*---*                          \n",
      "                        /d\\d/d\\d/d\\d/d\\                         \n",
      "                       *---*---*---*---*                        \n",
      "                      /c\\b/b\\b/b\\b/b\\b/a\\                       \n",
      "                     *---*---*---*---*---*                      \n",
      "                    /c\\c/c\\b/b\\b/b\\b/a\\a/a\\                     \n",
      "                   *---*---*---*---*---*---*                    \n",
      "                  /c\\c/c\\c/c\\b/b\\b/a\\a/a\\a/a\\                   \n",
      "                 *---*---*---*---*---*---*---*                  \n",
      "                /c\\c/c\\c/c\\c/c\\b/a\\a/a\\a/a\\a/a\\                 \n",
      "               *---*---*---*---*---*---*---*---*                \n",
      "\n"
     ]
    }
   ],
   "source": [
    "task = compress_pyramid_task()\n",
    "task.get_examples()\n",
    "# task.read_string('input.txt')\n",
    "\n",
    "work_string = task.ex_4\n",
    "\n",
    "task.check_string(work_string)\n",
    "# task.check_string(task.string)\n",
    "\n",
    "task.print_pyramid(work_string)\n",
    "task.compress_pyramid(work_string)\n",
    "\n",
    "# task.merget_triangle\n",
    "\n",
    "# task.write_string('output.txt')"
   ]
  },
  {
   "cell_type": "code",
   "execution_count": 308,
   "metadata": {},
   "outputs": [
    {
     "name": "stdout",
     "output_type": "stream",
     "text": [
      "aaabcccabbbcdddd\n",
      "                               ^                                \n",
      "                              /d\\                               \n",
      "                             *---*                              \n",
      "                            /d\\d/d\\                             \n",
      "                           *---*---*                            \n",
      "                          /c\\b/b\\b/a\\                           \n",
      "                         *---*---*---*                          \n",
      "                        /c\\c/c\\b/a\\a/a\\                         \n",
      "                       *---*---*---*---*                        \n",
      "\n"
     ]
    }
   ],
   "source": [
    "work_string = task.new_string\n",
    "print(work_string)\n",
    "task.check_string(work_string)\n",
    "# task.check_string(task.string)\n",
    "\n",
    "task.print_pyramid(work_string)\n",
    "task.compress_pyramid(work_string)\n"
   ]
  },
  {
   "cell_type": "code",
   "execution_count": 309,
   "metadata": {},
   "outputs": [
    {
     "name": "stdout",
     "output_type": "stream",
     "text": [
      "abcd\n",
      "                               ^                                \n",
      "                              /d\\                               \n",
      "                             *---*                              \n",
      "                            /c\\b/a\\                             \n",
      "                           *---*---*                            \n",
      "\n"
     ]
    }
   ],
   "source": [
    "work_string = task.new_string\n",
    "print(work_string)\n",
    "task.check_string(work_string)\n",
    "# task.check_string(task.string)\n",
    "\n",
    "task.print_pyramid(work_string)\n"
   ]
  },
  {
   "cell_type": "code",
   "execution_count": null,
   "metadata": {},
   "outputs": [],
   "source": []
  }
 ],
 "metadata": {
  "kernelspec": {
   "display_name": "Python 3",
   "language": "python",
   "name": "python3"
  },
  "language_info": {
   "codemirror_mode": {
    "name": "ipython",
    "version": 3
   },
   "file_extension": ".py",
   "mimetype": "text/x-python",
   "name": "python",
   "nbconvert_exporter": "python",
   "pygments_lexer": "ipython3",
   "version": "3.11.2"
  }
 },
 "nbformat": 4,
 "nbformat_minor": 2
}
